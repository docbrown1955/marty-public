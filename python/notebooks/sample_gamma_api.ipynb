{
 "cells": [
  {
   "cell_type": "code",
   "execution_count": 1,
   "id": "e5c8e1b3",
   "metadata": {},
   "outputs": [],
   "source": [
    "from pymarty.gapi import Expr, current, single_fierz, simplify, order, project, print_latex, print_equation, set_symbolic_dimension, FierzBasis\n",
    "from pymarty.gapi import gamma, P_L, P_R, gamma5"
   ]
  },
  {
   "cell_type": "code",
   "execution_count": 2,
   "id": "ef5fb3a2",
   "metadata": {},
   "outputs": [],
   "source": [
    "set_symbolic_dimension(False)"
   ]
  },
  {
   "cell_type": "code",
   "execution_count": 3,
   "id": "c6e5fae2",
   "metadata": {},
   "outputs": [],
   "source": [
    "Q3 = {\n",
    "    \"left_current\": current([P_L()], 0, 1),\n",
    "    \"right_current\": current([P_L()], 2, 3)\n",
    "}\n",
    "Q5 = {\n",
    "    \"left_current\": current([P_L()], 0, 1),\n",
    "    \"right_current\": current([P_R()], 2, 3)\n",
    "}"
   ]
  },
  {
   "cell_type": "code",
   "execution_count": 4,
   "id": "c6125d70",
   "metadata": {},
   "outputs": [
    {
     "data": {
      "text/latex": [
       "\\begin{equation}\\begin{split}Q3\\ =\\ &\\frac{1}{2}\\left(P_L\\right)_{03}\\left(P_L\\right)_{21}\\\\& + \\frac{-1}{8}\\left(\\gamma^{\\mu_{1}\\mu_{2}}P_R\\right)_{03}\\left(\\gamma^{\\mu_{1}\\mu_{2}}P_L\\right)_{21}\\\\& + \\frac{-1}{8}\\left(\\gamma^{\\mu_{1}\\mu_{2}}P_L\\right)_{03}\\left(\\gamma^{\\mu_{1}\\mu_{2}}P_L\\right)_{21}\\end{split}\\end{equation}"
      ],
      "text/plain": [
       "<IPython.core.display.Latex object>"
      ]
     },
     "execution_count": 4,
     "metadata": {},
     "output_type": "execute_result"
    }
   ],
   "source": [
    "print_equation(\"Q3\", single_fierz(**Q3))"
   ]
  },
  {
   "cell_type": "code",
   "execution_count": 5,
   "id": "93d08fad",
   "metadata": {},
   "outputs": [
    {
     "data": {
      "text/latex": [
       "\\begin{equation}\\begin{split}Q5\\ =\\ \\frac{1}{2}\\left(\\gamma^{\\mu_{1}}P_R\\right)_{03}\\left(\\gamma^{\\mu_{1}}P_L\\right)_{21}\\end{split}\\end{equation}"
      ],
      "text/plain": [
       "<IPython.core.display.Latex object>"
      ]
     },
     "execution_count": 5,
     "metadata": {},
     "output_type": "execute_result"
    }
   ],
   "source": [
    "print_equation(\"Q5\", single_fierz(**Q5))"
   ]
  },
  {
   "cell_type": "code",
   "execution_count": 6,
   "id": "4211ee45",
   "metadata": {},
   "outputs": [
    {
     "name": "stdout",
     "output_type": "stream",
     "text": [
      "[m1] simpler than [m0] !\n"
     ]
    },
    {
     "data": {
      "text/latex": [
       "\\begin{equation}\\begin{split}&2\n",
       "g^{\\mu_{0}\\mu_{1}}\\left(\\right)_{01}\\\\& + -1\n",
       "\\left(\\gamma^{\\mu_{1}}\\gamma^{\\mu_{0}}\\right)_{01}\\end{split}\\end{equation}"
      ],
      "text/plain": [
       "<IPython.core.display.Latex object>"
      ]
     },
     "execution_count": 6,
     "metadata": {},
     "output_type": "execute_result"
    }
   ],
   "source": [
    "print_latex(order(current([gamma(0), gamma(1)], 0, 1)))"
   ]
  },
  {
   "cell_type": "code",
   "execution_count": 7,
   "id": "dfd498f3",
   "metadata": {},
   "outputs": [
    {
     "data": {
      "text/latex": [
       "\\begin{equation}\\begin{split}\\left(\\gamma^{\\mu_{1}\\mu_{2}}\\gamma^{5}\\gamma^{\\mu_{0}}\\right)_{01}\\end{split}\\end{equation}"
      ],
      "text/plain": [
       "<IPython.core.display.Latex object>"
      ]
     },
     "execution_count": 7,
     "metadata": {},
     "output_type": "execute_result"
    }
   ],
   "source": [
    "print_latex(project(order(current([gamma(1, 2), gamma5(), gamma(0)], 0, 1)), FierzBasis.Chiral))"
   ]
  },
  {
   "cell_type": "code",
   "execution_count": null,
   "id": "c9fd50b2",
   "metadata": {},
   "outputs": [],
   "source": []
  }
 ],
 "metadata": {
  "kernelspec": {
   "display_name": "base",
   "language": "python",
   "name": "python3"
  },
  "language_info": {
   "codemirror_mode": {
    "name": "ipython",
    "version": 3
   },
   "file_extension": ".py",
   "mimetype": "text/x-python",
   "name": "python",
   "nbconvert_exporter": "python",
   "pygments_lexer": "ipython3",
   "version": "3.9.13"
  },
  "vscode": {
   "interpreter": {
    "hash": "3750cd8424b638e552e2ae8392a6429be9974f6d6d26ca49b2e2cc57f176ff3c"
   }
  }
 },
 "nbformat": 4,
 "nbformat_minor": 5
}
