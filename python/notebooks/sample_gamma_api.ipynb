{
 "cells": [
  {
   "cell_type": "code",
   "execution_count": 5,
   "id": "e5c8e1b3",
   "metadata": {},
   "outputs": [],
   "source": [
    "from pymarty.gapi import Expr, chain, single_fierz, simplify, print_latex, print_equation, set_symbolic_dimension\n",
    "from pymarty.gapi import P_L, P_R"
   ]
  },
  {
   "cell_type": "code",
   "execution_count": 6,
   "id": "ef5fb3a2",
   "metadata": {},
   "outputs": [],
   "source": [
    "set_symbolic_dimension(False)"
   ]
  },
  {
   "cell_type": "code",
   "execution_count": 7,
   "id": "c6e5fae2",
   "metadata": {},
   "outputs": [],
   "source": [
    "Q3 = {\n",
    "    \"left_current\": chain([P_L()], 0, 1),\n",
    "    \"right_current\": chain([P_L()], 2, 3)\n",
    "}\n",
    "Q5 = {\n",
    "    \"left_current\": chain([P_L()], 0, 1),\n",
    "    \"right_current\": chain([P_R()], 2, 3)\n",
    "}"
   ]
  },
  {
   "cell_type": "code",
   "execution_count": 8,
   "id": "c6125d70",
   "metadata": {},
   "outputs": [
    {
     "data": {
      "text/latex": [
       "\\begin{equation}\\begin{split}Q3\\ =\\ &\\frac{1}{2}\\left(P_L\\right)_{03}\\left(P_L\\right)_{21}\\\\& + \\frac{-1}{4}\\left(\\gamma^{\\mu_{1}\\mu_{2}}\\right)_{03}\\left(\\gamma^{\\mu_{1}\\mu_{2}}\\right)_{21}\\\\& + \\frac{1}{4}\\left(\\gamma^{\\mu_{1}\\mu_{2}}\\right)_{03}\\left(\\gamma^{\\mu_{1}\\mu_{2}}\\gamma^{5}\\right)_{21}\\end{split}\\end{equation}"
      ],
      "text/plain": [
       "<IPython.core.display.Latex object>"
      ]
     },
     "execution_count": 8,
     "metadata": {},
     "output_type": "execute_result"
    }
   ],
   "source": [
    "print_equation(\"Q3\", single_fierz(**Q3))"
   ]
  },
  {
   "cell_type": "code",
   "execution_count": 9,
   "id": "93d08fad",
   "metadata": {},
   "outputs": [
    {
     "data": {
      "text/latex": [
       "\\begin{equation}\\begin{split}Q5\\ =\\ \\frac{1}{2}\\left(\\gamma^{\\mu_{1}}P_R\\right)_{03}\\left(\\gamma^{\\mu_{1}}P_L\\right)_{21}\\end{split}\\end{equation}"
      ],
      "text/plain": [
       "<IPython.core.display.Latex object>"
      ]
     },
     "execution_count": 9,
     "metadata": {},
     "output_type": "execute_result"
    }
   ],
   "source": [
    "print_equation(\"Q5\", single_fierz(**Q5))"
   ]
  },
  {
   "cell_type": "code",
   "execution_count": null,
   "id": "4211ee45",
   "metadata": {},
   "outputs": [],
   "source": []
  }
 ],
 "metadata": {
  "kernelspec": {
   "display_name": "Python 3 (ipykernel)",
   "language": "python",
   "name": "python3"
  },
  "language_info": {
   "codemirror_mode": {
    "name": "ipython",
    "version": 3
   },
   "file_extension": ".py",
   "mimetype": "text/x-python",
   "name": "python",
   "nbconvert_exporter": "python",
   "pygments_lexer": "ipython3",
   "version": "3.9.13"
  }
 },
 "nbformat": 4,
 "nbformat_minor": 5
}
