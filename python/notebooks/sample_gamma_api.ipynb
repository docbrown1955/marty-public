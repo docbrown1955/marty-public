{
 "cells": [
  {
   "cell_type": "code",
   "execution_count": null,
   "id": "e5c8e1b3",
   "metadata": {},
   "outputs": [],
   "source": [
    "from pymarty.gamma_api import Expr, FierzBasis, set_symbolic_dimension\n",
    "from pymarty.gamma_api import g, eps, gamma, P_L, P_R, gamma5, C, D, imaginary_unit as ii\n",
    "from pymarty.gamma_api import current, trace, single_fierz, double_fierz, print_latex"
   ]
  },
  {
   "cell_type": "code",
   "execution_count": null,
   "id": "ef5fb3a2",
   "metadata": {},
   "outputs": [],
   "source": [
    "set_symbolic_dimension(False) # Replace D by 4"
   ]
  },
  {
   "attachments": {},
   "cell_type": "markdown",
   "id": "3903569b",
   "metadata": {},
   "source": [
    "# First Simplifications"
   ]
  },
  {
   "cell_type": "code",
   "execution_count": null,
   "id": "56cc32c8",
   "metadata": {},
   "outputs": [],
   "source": [
    "# Test gamma anti-commutation\n",
    "expr: Expr = (current([gamma(0), gamma(1)], 0, 1) + current([gamma(1), gamma(0)], 0, 1))\n",
    "print_latex(expr, expr.order())"
   ]
  },
  {
   "cell_type": "code",
   "execution_count": null,
   "id": "dfd498f3",
   "metadata": {},
   "outputs": [],
   "source": [
    "# Test more general gamma-matrix manipulations\n",
    "init = current([gamma(0), gamma5(), gamma(1, 2)], 0, 1)\n",
    "ordered = init.order() # Order matrices cannonically\n",
    "print_latex(lhs=init, rhs=ordered, split=False)\n",
    "projected = ordered.project(FierzBasis.Chiral) # Project onto the Chiral basis\n",
    "print_latex(lhs=init, rhs=projected, split=False)"
   ]
  },
  {
   "attachments": {},
   "cell_type": "markdown",
   "id": "df7facd1",
   "metadata": {},
   "source": [
    "# Single Fierz Identities"
   ]
  },
  {
   "cell_type": "code",
   "execution_count": null,
   "id": "c6125d70",
   "metadata": {},
   "outputs": [],
   "source": [
    "print_latex(single_fierz([P_L()], [P_L()], basis=FierzBasis.Chiral))"
   ]
  },
  {
   "cell_type": "code",
   "execution_count": null,
   "id": "4211ee45",
   "metadata": {},
   "outputs": [],
   "source": [
    "res = single_fierz([P_L()], [P_R()])\n",
    "print_latex(lhs=res[\"lhs\"], rhs=res[\"rhs\"])"
   ]
  },
  {
   "attachments": {},
   "cell_type": "markdown",
   "id": "737b3469",
   "metadata": {},
   "source": [
    "# Double Fierz Identities"
   ]
  },
  {
   "cell_type": "code",
   "execution_count": null,
   "id": "055b53b3",
   "metadata": {},
   "outputs": [],
   "source": [
    "# Check double Fierz is identity on canonical currents\n",
    "res = double_fierz([P_L()], [P_R()])\n",
    "print_latex(lhs=res[\"lhs\"], rhs=res[\"rhs\"])"
   ]
  },
  {
   "cell_type": "code",
   "execution_count": null,
   "id": "c77f1ace",
   "metadata": {},
   "outputs": [],
   "source": [
    "# Test well-known double Fierz identity\n",
    "res = double_fierz([gamma(0), gamma(1), gamma(2), P_L()], [gamma(2), gamma(1), gamma(0), P_R()])\n",
    "print_latex(lhs=res[\"lhs\"], rhs=res[\"rhs\"])"
   ]
  },
  {
   "cell_type": "code",
   "execution_count": null,
   "id": "13bdd727",
   "metadata": {},
   "outputs": [],
   "source": [
    "# Test well-known double Fierz identity\n",
    "res = double_fierz([gamma(0), gamma(1), gamma(2), P_L()], [gamma(0), gamma(1), gamma(2), P_R()])\n",
    "print_latex(lhs=res[\"lhs\"], rhs=res[\"rhs\"])"
   ]
  },
  {
   "cell_type": "code",
   "execution_count": null,
   "id": "52562428",
   "metadata": {},
   "outputs": [],
   "source": []
  }
 ],
 "metadata": {
  "kernelspec": {
   "display_name": "base",
   "language": "python",
   "name": "python3"
  },
  "language_info": {
   "codemirror_mode": {
    "name": "ipython",
    "version": 3
   },
   "file_extension": ".py",
   "mimetype": "text/x-python",
   "name": "python",
   "nbconvert_exporter": "python",
   "pygments_lexer": "ipython3",
   "version": "3.10.8"
  },
  "vscode": {
   "interpreter": {
    "hash": "3750cd8424b638e552e2ae8392a6429be9974f6d6d26ca49b2e2cc57f176ff3c"
   }
  }
 },
 "nbformat": 4,
 "nbformat_minor": 5
}
