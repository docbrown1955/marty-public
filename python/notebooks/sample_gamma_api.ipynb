{
 "cells": [
  {
   "cell_type": "code",
   "execution_count": 1,
   "id": "e5c8e1b3",
   "metadata": {},
   "outputs": [],
   "source": [
    "from pymarty.gamma_api import Expr, FierzBasis, set_symbolic_dimension\n",
    "from pymarty.gamma_api import g, eps, gamma, P_L, P_R, gamma5, C, D, imaginary_unit as ii\n",
    "from pymarty.gamma_api import current, trace, single_fierz, double_fierz, print_latex"
   ]
  },
  {
   "cell_type": "code",
   "execution_count": 2,
   "id": "ef5fb3a2",
   "metadata": {},
   "outputs": [],
   "source": [
    "set_symbolic_dimension(False)"
   ]
  },
  {
   "cell_type": "code",
   "execution_count": 3,
   "id": "c6125d70",
   "metadata": {},
   "outputs": [
    {
     "data": {
      "text/latex": [
       "\\begin{equation*}\\begin{split}\\left(P_L\\right)_{12}\\left(P_L\\right)_{34}\\ =\\ &\\frac{1}{2}\\left(P_L\\right)_{14}\\left(P_L\\right)_{32}\\\\& - \\frac{1}{8}\\left(\\gamma^{\\mu_{1}\\mu_{2}}P_R\\right)_{14}\\left(\\gamma^{\\mu_{1}\\mu_{2}}P_L\\right)_{32}\\\\& - \\frac{1}{8}\\left(\\gamma^{\\mu_{1}\\mu_{2}}P_L\\right)_{14}\\left(\\gamma^{\\mu_{1}\\mu_{2}}P_L\\right)_{32}\\end{split}\\end{equation*}"
      ],
      "text/plain": [
       "<IPython.core.display.Latex object>"
      ]
     },
     "metadata": {},
     "output_type": "display_data"
    },
    {
     "data": {
      "text/latex": [
       "\\begin{equation*}\\begin{split}\\left(P_L\\right)_{12}\\left(P_L\\right)_{34}\\ =\\ &\\frac{1}{8}\\left(\\right)_{14}\\left(\\right)_{23}\\\\& - \\frac{1}{16}\\left(\\gamma^{\\mu_{1}\\mu_{2}}\\right)_{14}\\left(\\gamma^{\\mu_{1}\\mu_{2}}\\right)_{32}\\\\& - \\frac{1}{8}\\left(\\gamma^{5}\\right)_{14}\\left(\\right)_{23}\\\\& - \\frac{1}{8}\\left(\\right)_{14}\\left(\\gamma^{5}\\right)_{32}\\\\& + \\frac{1}{8}\\left(\\gamma^{5}\\right)_{14}\\left(\\gamma^{5}\\right)_{32}\\\\& + \\frac{1}{16}\\left(\\gamma^{\\mu_{1}\\mu_{2}}\\right)_{14}\\left(\\gamma^{\\mu_{1}\\mu_{2}}\\gamma^{5}\\right)_{32}\\end{split}\\end{equation*}"
      ],
      "text/plain": [
       "<IPython.core.display.Latex object>"
      ]
     },
     "metadata": {},
     "output_type": "display_data"
    }
   ],
   "source": [
    "print_latex(single_fierz([P_L()], [P_L()], basis=FierzBasis.Chiral))\n",
    "print_latex(single_fierz([P_L()], [P_L()], basis=FierzBasis.Standard))"
   ]
  },
  {
   "cell_type": "code",
   "execution_count": 7,
   "id": "4211ee45",
   "metadata": {},
   "outputs": [
    {
     "data": {
      "text/latex": [
       "\\begin{equation*}\\begin{split}\\left(P_L\\right)_{12}\\left(P_R\\right)_{34}\\ =\\ \\frac{1}{2}\\left(\\gamma^{\\mu_{1}}P_R\\right)_{14}\\left(\\gamma^{\\mu_{1}}P_L\\right)_{32}\\end{split}\\end{equation*}"
      ],
      "text/plain": [
       "<IPython.core.display.Latex object>"
      ]
     },
     "metadata": {},
     "output_type": "display_data"
    }
   ],
   "source": [
    "res = single_fierz([P_L()], [P_R()])\n",
    "print_latex(lhs=res[\"lhs\"], rhs=res[\"rhs\"])"
   ]
  },
  {
   "cell_type": "code",
   "execution_count": 9,
   "id": "dfd498f3",
   "metadata": {},
   "outputs": [
    {
     "data": {
      "text/latex": [
       "\\begin{equation*}\\begin{split}\\left(\\gamma^{\\mu_{0}}\\gamma^{5}\\gamma^{\\mu_{1}\\mu_{2}}\\right)_{01}\\ =\\ -2\n",
       "g^{\\mu_{0}\\mu_{2}}\\left(\\gamma^{\\mu_{1}}P_R\\right)_{01} + 2\n",
       "g^{\\mu_{0}\\mu_{2}}\\left(\\gamma^{\\mu_{1}}P_L\\right)_{01} + 2\n",
       "g^{\\mu_{0}\\mu_{1}}\\left(\\gamma^{\\mu_{2}}P_R\\right)_{01} - 2\n",
       "g^{\\mu_{0}\\mu_{1}}\\left(\\gamma^{\\mu_{2}}P_L\\right)_{01} + \\left(\\gamma^{\\mu_{1}\\mu_{2}}\\gamma^{\\mu_{0}}P_R\\right)_{01} - \\left(\\gamma^{\\mu_{1}\\mu_{2}}\\gamma^{\\mu_{0}}P_L\\right)_{01}\\end{split}\\end{equation*}"
      ],
      "text/plain": [
       "<IPython.core.display.Latex object>"
      ]
     },
     "metadata": {},
     "output_type": "display_data"
    }
   ],
   "source": [
    "init = current([gamma(0), gamma5(), gamma(1, 2)], 0, 1)\n",
    "print_latex(lhs=init, rhs=init.order().project(FierzBasis.Chiral), split=False)"
   ]
  },
  {
   "cell_type": "code",
   "execution_count": 10,
   "id": "56cc32c8",
   "metadata": {},
   "outputs": [
    {
     "data": {
      "text/latex": [
       "\\begin{equation*}\\begin{split}2\n",
       "g^{\\mu_{2}\\mu_{3}}\\left(\\gamma^{\\mu_{0}}\\gamma^{\\mu_{1}}\\right)_{01} + 2\n",
       "g^{\\mu_{2}\\mu_{3}}\\left(\\gamma^{\\mu_{1}}\\gamma^{\\mu_{0}}\\right)_{01}\\ =\\ 4\n",
       "g^{\\mu_{0}\\mu_{1}}g^{\\mu_{2}\\mu_{3}}\\left(\\right)_{01}\\end{split}\\end{equation*}"
      ],
      "text/plain": [
       "<IPython.core.display.Latex object>"
      ]
     },
     "metadata": {},
     "output_type": "display_data"
    }
   ],
   "source": [
    "expr: Expr = 2 * g(2, 3) * (current([gamma(0), gamma(1)], 0, 1) + current([gamma(1), gamma(0)], 0, 1))\n",
    "print_latex(expr, expr.order())"
   ]
  },
  {
   "cell_type": "code",
   "execution_count": null,
   "id": "055b53b3",
   "metadata": {},
   "outputs": [],
   "source": []
  }
 ],
 "metadata": {
  "kernelspec": {
   "display_name": "base",
   "language": "python",
   "name": "python3"
  },
  "language_info": {
   "codemirror_mode": {
    "name": "ipython",
    "version": 3
   },
   "file_extension": ".py",
   "mimetype": "text/x-python",
   "name": "python",
   "nbconvert_exporter": "python",
   "pygments_lexer": "ipython3",
   "version": "3.9.13"
  },
  "vscode": {
   "interpreter": {
    "hash": "3750cd8424b638e552e2ae8392a6429be9974f6d6d26ca49b2e2cc57f176ff3c"
   }
  }
 },
 "nbformat": 4,
 "nbformat_minor": 5
}
