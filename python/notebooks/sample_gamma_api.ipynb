{
 "cells": [
  {
   "cell_type": "code",
   "execution_count": 1,
   "id": "e5c8e1b3",
   "metadata": {},
   "outputs": [],
   "source": [
    "from pymarty.gamma_api import Expr, FierzBasis, set_symbolic_dimension\n",
    "from pymarty.gamma_api import g, eps, gamma, P_L, P_R, gamma5, C, D\n",
    "from pymarty.gamma_api import current, trace, single_fierz, double_fierz, print_latex"
   ]
  },
  {
   "cell_type": "code",
   "execution_count": 2,
   "id": "ef5fb3a2",
   "metadata": {},
   "outputs": [],
   "source": [
    "set_symbolic_dimension(False)"
   ]
  },
  {
   "cell_type": "code",
   "execution_count": 3,
   "id": "c6125d70",
   "metadata": {},
   "outputs": [
    {
     "data": {
      "text/latex": [
       "\\begin{equation*}\\begin{split}&\\frac{1}{2}\\left(P_L\\right)_{03}\\left(P_L\\right)_{21}\\\\& - \\frac{1}{8}\\left(\\gamma^{\\mu_{1}\\mu_{2}}P_R\\right)_{03}\\left(\\gamma^{\\mu_{1}\\mu_{2}}P_L\\right)_{21}\\\\& - \\frac{1}{8}\\left(\\gamma^{\\mu_{1}\\mu_{2}}P_L\\right)_{03}\\left(\\gamma^{\\mu_{1}\\mu_{2}}P_L\\right)_{21}\\end{split}\\end{equation*}"
      ],
      "text/plain": [
       "<IPython.core.display.Latex object>"
      ]
     },
     "metadata": {},
     "output_type": "display_data"
    }
   ],
   "source": [
    "expr = single_fierz(\n",
    "    left_chain=current([P_L()], 0, 1), \n",
    "    right_chain=current([P_L()], 2, 3), \n",
    "    basis=FierzBasis.Chiral\n",
    ")\n",
    "expr.simplify()\n",
    "print_latex(expr.to_latex())"
   ]
  },
  {
   "cell_type": "code",
   "execution_count": 4,
   "id": "4211ee45",
   "metadata": {},
   "outputs": [
    {
     "data": {
      "text/latex": [
       "\\begin{equation*}\\begin{split}\\frac{1}{2}\\left(\\gamma^{\\mu_{1}}P_R\\right)_{03}\\left(\\gamma^{\\mu_{1}}P_L\\right)_{21}\\end{split}\\end{equation*}"
      ],
      "text/plain": [
       "<IPython.core.display.Latex object>"
      ]
     },
     "metadata": {},
     "output_type": "display_data"
    }
   ],
   "source": [
    "expr = single_fierz(\n",
    "    left_chain=current([P_L()], 0, 1), \n",
    "    right_chain=current([P_R()], 2, 3), \n",
    "    basis=FierzBasis.Chiral\n",
    ")\n",
    "expr.simplify()\n",
    "print_latex(expr.to_latex())"
   ]
  },
  {
   "cell_type": "code",
   "execution_count": 5,
   "id": "dfd498f3",
   "metadata": {},
   "outputs": [
    {
     "data": {
      "text/latex": [
       "\\begin{equation*}\\begin{split}&-2\n",
       "g^{\\mu_{0}\\mu_{2}}\\left(\\gamma^{\\mu_{1}}P_R\\right)_{01}\\\\& + 2\n",
       "g^{\\mu_{0}\\mu_{2}}\\left(\\gamma^{\\mu_{1}}P_L\\right)_{01}\\\\& + 2\n",
       "g^{\\mu_{0}\\mu_{1}}\\left(\\gamma^{\\mu_{2}}P_R\\right)_{01}\\\\& - 2\n",
       "g^{\\mu_{0}\\mu_{1}}\\left(\\gamma^{\\mu_{2}}P_L\\right)_{01}\\\\& + \\left(\\gamma^{\\mu_{1}\\mu_{2}}\\gamma^{\\mu_{0}}P_R\\right)_{01}\\\\& - \\left(\\gamma^{\\mu_{1}\\mu_{2}}\\gamma^{\\mu_{0}}P_L\\right)_{01}\\end{split}\\end{equation*}"
      ],
      "text/plain": [
       "<IPython.core.display.Latex object>"
      ]
     },
     "metadata": {},
     "output_type": "display_data"
    }
   ],
   "source": [
    "expr = current([gamma(0), gamma5(), gamma(1, 2)], 0, 1)\n",
    "expr = expr.order().project(FierzBasis.Chiral)\n",
    "print_latex(expr.to_latex())"
   ]
  },
  {
   "cell_type": "code",
   "execution_count": 6,
   "id": "56cc32c8",
   "metadata": {},
   "outputs": [
    {
     "data": {
      "text/latex": [
       "\\begin{equation*}\\begin{split}\\mathrm{Init}\\ =\\ &2\n",
       "g^{\\mu_{2}\\mu_{3}}\\left(\\gamma^{\\mu_{0}}\\gamma^{\\mu_{1}}\\right)_{01}\\\\& + 2\n",
       "g^{\\mu_{2}\\mu_{3}}\\left(\\gamma^{\\mu_{1}}\\gamma^{\\mu_{0}}\\right)_{01}\\end{split}\\end{equation*}"
      ],
      "text/plain": [
       "<IPython.core.display.Latex object>"
      ]
     },
     "metadata": {},
     "output_type": "display_data"
    },
    {
     "data": {
      "text/latex": [
       "\\begin{equation*}\\begin{split}\\mathrm{Ordered}\\ =\\ 4\n",
       "g^{\\mu_{0}\\mu_{1}}g^{\\mu_{2}\\mu_{3}}\\left(\\right)_{01}\\end{split}\\end{equation*}"
      ],
      "text/plain": [
       "<IPython.core.display.Latex object>"
      ]
     },
     "metadata": {},
     "output_type": "display_data"
    }
   ],
   "source": [
    "expr: Expr = 2 * g(2, 3) * (current([gamma(0), gamma(1)], 0, 1) + current([gamma(1), gamma(0)], 0, 1))\n",
    "print_latex(lhs=\"\\\\mathrm{Init}\", rhs=expr.to_latex())\n",
    "print_latex(lhs=\"\\\\mathrm{Ordered}\", rhs=expr.order().to_latex())"
   ]
  },
  {
   "cell_type": "code",
   "execution_count": 7,
   "id": "71c55658",
   "metadata": {},
   "outputs": [
    {
     "data": {
      "text/plain": [
       "<pymarty._pymarty.gamma_api.Expr at 0x7f8db32969b0>"
      ]
     },
     "execution_count": 7,
     "metadata": {},
     "output_type": "execute_result"
    }
   ],
   "source": [
    "import copy\n",
    "copy.copy(expr)\n",
    "copy.deepcopy(expr)"
   ]
  },
  {
   "cell_type": "code",
   "execution_count": 8,
   "id": "a229d796",
   "metadata": {},
   "outputs": [
    {
     "name": "stdout",
     "output_type": "stream",
     "text": [
      "Equal\n"
     ]
    }
   ],
   "source": [
    "set_symbolic_dimension(True)\n",
    "expr1 = current([gamma(0), gamma(0)], 0, 1)\n",
    "expr2 = D*current([], 0, 1)\n",
    "if (expr1 == expr2):\n",
    "    print(\"Equal\")\n",
    "else:\n",
    "    print(\"Not equal\")"
   ]
  },
  {
   "cell_type": "code",
   "execution_count": 9,
   "id": "f887b4ca",
   "metadata": {},
   "outputs": [
    {
     "name": "stdout",
     "output_type": "stream",
     "text": [
      "'2*(m2 m3)*{[m0] [m1]}_{d0,d1} + 2*(m2 m3)*{[m1] [m0]}_{d0,d1}' is of len 2\n",
      "Argument 0: 2*(m2 m3)*{[m0] [m1]}_{d0,d1}\n",
      "Argument 1: 2*(m2 m3)*{[m1] [m0]}_{d0,d1}\n"
     ]
    }
   ],
   "source": [
    "print(f\"'{expr}' is of len {len(expr)}\")\n",
    "for i in range(len(expr)):\n",
    "    print(f\"Argument {i}: {expr[i]}\")"
   ]
  },
  {
   "cell_type": "code",
   "execution_count": null,
   "id": "7728e214",
   "metadata": {},
   "outputs": [],
   "source": []
  }
 ],
 "metadata": {
  "kernelspec": {
   "display_name": "base",
   "language": "python",
   "name": "python3"
  },
  "language_info": {
   "codemirror_mode": {
    "name": "ipython",
    "version": 3
   },
   "file_extension": ".py",
   "mimetype": "text/x-python",
   "name": "python",
   "nbconvert_exporter": "python",
   "pygments_lexer": "ipython3",
   "version": "3.9.13"
  },
  "vscode": {
   "interpreter": {
    "hash": "3750cd8424b638e552e2ae8392a6429be9974f6d6d26ca49b2e2cc57f176ff3c"
   }
  }
 },
 "nbformat": 4,
 "nbformat_minor": 5
}
