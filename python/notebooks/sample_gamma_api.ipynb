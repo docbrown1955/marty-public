{
 "cells": [
  {
   "cell_type": "code",
   "execution_count": null,
   "id": "e5c8e1b3",
   "metadata": {},
   "outputs": [],
   "source": [
    "from pymarty.gamma_api import Expr, FierzBasis, set_symbolic_dimension\n",
    "from pymarty.gamma_api import g, eps, gamma, P_L, P_R, gamma5, C, D, imaginary_unit as ii\n",
    "from pymarty.gamma_api import current, trace, single_fierz, double_fierz, print_latex\n",
    "set_symbolic_dimension(False) # Replace D by 4"
   ]
  },
  {
   "attachments": {},
   "cell_type": "markdown",
   "id": "68be84ab",
   "metadata": {},
   "source": [
    "# Traces"
   ]
  },
  {
   "cell_type": "code",
   "execution_count": 6,
   "id": "0162ccd4",
   "metadata": {},
   "outputs": [
    {
     "data": {
      "text/latex": [
       "\\begin{equation*}\\begin{split}&4\n",
       "g^{\\mu_{0}\\mu_{3}}g^{\\mu_{1}\\mu_{2}}\\\\& - 4\n",
       "g^{\\mu_{0}\\mu_{2}}g^{\\mu_{1}\\mu_{3}}\\\\& + 4\n",
       "g^{\\mu_{0}\\mu_{1}}g^{\\mu_{2}\\mu_{3}}\\end{split}\\end{equation*}"
      ],
      "text/plain": [
       "<IPython.core.display.Latex object>"
      ]
     },
     "metadata": {},
     "output_type": "display_data"
    }
   ],
   "source": [
    "trace_result = trace([gamma(0), gamma(1), gamma(2), gamma(3)])\n",
    "print_latex(trace_result)"
   ]
  },
  {
   "cell_type": "code",
   "execution_count": 7,
   "id": "377b77db",
   "metadata": {},
   "outputs": [
    {
     "data": {
      "text/latex": [
       "\\begin{equation*}\\begin{split}4\n",
       "g^{\\mu_{1}\\mu_{3}}g^{\\mu_{1}\\mu_{2}} - 4\n",
       "g^{\\mu_{2}\\mu_{3}} + 4\n",
       "g^{\\mu_{1}\\mu_{1}}g^{\\mu_{2}\\mu_{3}}\\ =\\ 16\n",
       "g^{\\mu_{2}\\mu_{3}}\\end{split}\\end{equation*}"
      ],
      "text/plain": [
       "<IPython.core.display.Latex object>"
      ]
     },
     "metadata": {},
     "output_type": "display_data"
    }
   ],
   "source": [
    "expr = g(0, 1) * trace_result\n",
    "print_latex(\n",
    "    lhs=expr, \n",
    "    rhs=expr.simplify()\n",
    ")"
   ]
  },
  {
   "attachments": {},
   "cell_type": "markdown",
   "id": "3903569b",
   "metadata": {},
   "source": [
    "# Ordering\n"
   ]
  },
  {
   "cell_type": "code",
   "execution_count": 8,
   "id": "56cc32c8",
   "metadata": {},
   "outputs": [
    {
     "data": {
      "text/latex": [
       "\\begin{equation*}\\begin{split}\\left(\\gamma^{\\mu_{0}}\\gamma^{\\mu_{1}}\\right)_{01} + \\left(\\gamma^{\\mu_{1}}\\gamma^{\\mu_{0}}\\right)_{01}\\ =\\ 2\n",
       "g^{\\mu_{0}\\mu_{1}}\\left(\\right)_{01}\\end{split}\\end{equation*}"
      ],
      "text/plain": [
       "<IPython.core.display.Latex object>"
      ]
     },
     "metadata": {},
     "output_type": "display_data"
    }
   ],
   "source": [
    "# Test gamma anti-commutation\n",
    "expr = (\n",
    "    current([gamma(0), gamma(1)], 0, 1)\n",
    "    + current([gamma(1), gamma(0)], 0, 1)\n",
    ")\n",
    "print_latex(lhs=expr, rhs=expr.order())"
   ]
  },
  {
   "cell_type": "code",
   "execution_count": 9,
   "id": "dfd498f3",
   "metadata": {},
   "outputs": [
    {
     "data": {
      "text/latex": [
       "\\begin{equation*}\\begin{split}\\left(\\gamma^{\\mu_{0}}\\gamma^{5}\\gamma^{\\mu_{1}\\mu_{2}}\\right)_{01}\\ =\\ 2\n",
       "g^{\\mu_{0}\\mu_{1}}\\left(\\gamma^{\\mu_{2}}\\gamma^{5}\\right)_{01} - 2\n",
       "g^{\\mu_{0}\\mu_{2}}\\left(\\gamma^{\\mu_{1}}\\gamma^{5}\\right)_{01} + \\left(\\gamma^{\\mu_{1}\\mu_{2}}\\gamma^{\\mu_{0}}\\gamma^{5}\\right)_{01}\\end{split}\\end{equation*}"
      ],
      "text/plain": [
       "<IPython.core.display.Latex object>"
      ]
     },
     "metadata": {},
     "output_type": "display_data"
    },
    {
     "data": {
      "text/latex": [
       "\\begin{equation*}\\begin{split}\\left(\\gamma^{\\mu_{0}}\\gamma^{5}\\gamma^{\\mu_{1}\\mu_{2}}\\right)_{01}\\ =\\ -2\n",
       "g^{\\mu_{0}\\mu_{2}}\\left(\\gamma^{\\mu_{1}}P_R\\right)_{01} + 2\n",
       "g^{\\mu_{0}\\mu_{2}}\\left(\\gamma^{\\mu_{1}}P_L\\right)_{01} + 2\n",
       "g^{\\mu_{0}\\mu_{1}}\\left(\\gamma^{\\mu_{2}}P_R\\right)_{01} - 2\n",
       "g^{\\mu_{0}\\mu_{1}}\\left(\\gamma^{\\mu_{2}}P_L\\right)_{01} + \\left(\\gamma^{\\mu_{1}\\mu_{2}}\\gamma^{\\mu_{0}}P_R\\right)_{01} - \\left(\\gamma^{\\mu_{1}\\mu_{2}}\\gamma^{\\mu_{0}}P_L\\right)_{01}\\end{split}\\end{equation*}"
      ],
      "text/plain": [
       "<IPython.core.display.Latex object>"
      ]
     },
     "metadata": {},
     "output_type": "display_data"
    }
   ],
   "source": [
    "# Test more general gamma-matrix manipulations\n",
    "init = current([gamma(0), gamma5(), gamma(1, 2)], 0, 1)\n",
    "ordered = init.order() # Order matrices cannonically\n",
    "print_latex(lhs=init, rhs=ordered, split=False)\n",
    "projected = ordered.project(FierzBasis.Chiral) # Project onto the Chiral basis\n",
    "print_latex(lhs=init, rhs=projected, split=False)"
   ]
  },
  {
   "attachments": {},
   "cell_type": "markdown",
   "id": "df7facd1",
   "metadata": {},
   "source": [
    "# Single Fierz Identities"
   ]
  },
  {
   "cell_type": "code",
   "execution_count": 6,
   "id": "c6125d70",
   "metadata": {},
   "outputs": [
    {
     "data": {
      "text/latex": [
       "\\begin{equation*}\\begin{split}\\left(P_L\\right)_{12}\\left(P_L\\right)_{34}\\ =\\ &\\frac{1}{2}\\left(P_L\\right)_{14}\\left(P_L\\right)_{32}\\\\& - \\frac{1}{8}\\left(\\gamma^{\\mu_{1}\\mu_{2}}P_R\\right)_{14}\\left(\\gamma^{\\mu_{1}\\mu_{2}}P_L\\right)_{32}\\\\& - \\frac{1}{8}\\left(\\gamma^{\\mu_{1}\\mu_{2}}P_L\\right)_{14}\\left(\\gamma^{\\mu_{1}\\mu_{2}}P_L\\right)_{32}\\end{split}\\end{equation*}"
      ],
      "text/plain": [
       "<IPython.core.display.Latex object>"
      ]
     },
     "metadata": {},
     "output_type": "display_data"
    }
   ],
   "source": [
    "print_latex(single_fierz([P_L()], [P_L()], basis=FierzBasis.Chiral))"
   ]
  },
  {
   "cell_type": "code",
   "execution_count": 10,
   "id": "4211ee45",
   "metadata": {},
   "outputs": [
    {
     "data": {
      "text/latex": [
       "\\begin{equation*}\\begin{split}\\left(P_L\\right)_{12}\\left(P_R\\right)_{34}\\ =\\ \\frac{1}{2}\\left(\\gamma^{\\mu_{1}}P_R\\right)_{14}\\left(\\gamma^{\\mu_{1}}P_L\\right)_{32}\\end{split}\\end{equation*}"
      ],
      "text/plain": [
       "<IPython.core.display.Latex object>"
      ]
     },
     "metadata": {},
     "output_type": "display_data"
    }
   ],
   "source": [
    "res = single_fierz([P_L()], [P_R()])\n",
    "print_latex(lhs=res[\"lhs\"], rhs=res[\"rhs\"])"
   ]
  },
  {
   "attachments": {},
   "cell_type": "markdown",
   "id": "737b3469",
   "metadata": {},
   "source": [
    "# Double Fierz Identities"
   ]
  },
  {
   "cell_type": "code",
   "execution_count": 7,
   "id": "055b53b3",
   "metadata": {},
   "outputs": [
    {
     "data": {
      "text/latex": [
       "\\begin{equation*}\\begin{split}\\left(P_L\\right)_{12}\\left(P_R\\right)_{34}\\ =\\ \\left(P_L\\right)_{12}\\left(P_R\\right)_{34}\\end{split}\\end{equation*}"
      ],
      "text/plain": [
       "<IPython.core.display.Latex object>"
      ]
     },
     "metadata": {},
     "output_type": "display_data"
    }
   ],
   "source": [
    "# Check double Fierz is identity on canonical currents\n",
    "res = double_fierz([P_L()], [P_R()])\n",
    "print_latex(lhs=res[\"lhs\"], rhs=res[\"rhs\"])"
   ]
  },
  {
   "cell_type": "code",
   "execution_count": 8,
   "id": "c77f1ace",
   "metadata": {},
   "outputs": [
    {
     "data": {
      "text/latex": [
       "\\begin{equation*}\\begin{split}\\left(\\gamma^{\\mu_{0}}\\gamma^{\\mu_{1}}\\gamma^{\\mu_{2}}P_L\\right)_{12}\\left(\\gamma^{\\mu_{2}}\\gamma^{\\mu_{1}}\\gamma^{\\mu_{0}}P_R\\right)_{34}\\ =\\ 16\n",
       "\\left(\\gamma^{\\mu_{1}}P_L\\right)_{12}\\left(\\gamma^{\\mu_{1}}P_R\\right)_{34}\\end{split}\\end{equation*}"
      ],
      "text/plain": [
       "<IPython.core.display.Latex object>"
      ]
     },
     "metadata": {},
     "output_type": "display_data"
    }
   ],
   "source": [
    "# Test well-known double Fierz identity\n",
    "res = double_fierz(\n",
    "    [gamma(0), gamma(1), gamma(2), P_L()], \n",
    "    [gamma(2), gamma(1), gamma(0), P_R()]\n",
    ")\n",
    "print_latex(lhs=res[\"lhs\"], rhs=res[\"rhs\"])"
   ]
  },
  {
   "cell_type": "code",
   "execution_count": 9,
   "id": "13bdd727",
   "metadata": {},
   "outputs": [
    {
     "data": {
      "text/latex": [
       "\\begin{equation*}\\begin{split}\\left(\\gamma^{\\mu_{0}}\\gamma^{\\mu_{1}}\\gamma^{\\mu_{2}}P_L\\right)_{12}\\left(\\gamma^{\\mu_{0}}\\gamma^{\\mu_{1}}\\gamma^{\\mu_{2}}P_R\\right)_{34}\\ =\\ 4\n",
       "\\left(\\gamma^{\\mu_{1}}P_L\\right)_{12}\\left(\\gamma^{\\mu_{1}}P_R\\right)_{34}\\end{split}\\end{equation*}"
      ],
      "text/plain": [
       "<IPython.core.display.Latex object>"
      ]
     },
     "metadata": {},
     "output_type": "display_data"
    }
   ],
   "source": [
    "# Test well-known double Fierz identity\n",
    "res = double_fierz(\n",
    "    [gamma(0), gamma(1), gamma(2), P_L()], \n",
    "    [gamma(0), gamma(1), gamma(2), P_R()]\n",
    ")\n",
    "print_latex(lhs=res[\"lhs\"], rhs=res[\"rhs\"])"
   ]
  }
 ],
 "metadata": {
  "kernelspec": {
   "display_name": "Python 3",
   "language": "python",
   "name": "python3"
  },
  "language_info": {
   "codemirror_mode": {
    "name": "ipython",
    "version": 3
   },
   "file_extension": ".py",
   "mimetype": "text/x-python",
   "name": "python",
   "nbconvert_exporter": "python",
   "pygments_lexer": "ipython3",
   "version": "3.10.12"
  }
 },
 "nbformat": 4,
 "nbformat_minor": 5
}
